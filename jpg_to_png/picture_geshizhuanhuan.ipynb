{
 "cells": [
  {
   "cell_type": "code",
   "execution_count": 2,
   "metadata": {},
   "outputs": [],
   "source": [
    "import PIL.Image as Image\n",
    "import os\n",
    "import string"
   ]
  },
  {
   "cell_type": "code",
   "execution_count": 5,
   "metadata": {},
   "outputs": [
    {
     "name": "stdout",
     "output_type": "stream",
     "text": [
      "C:\\Users\\zhang\\Desktop\\jpg_to_png\\zzq.png updated successfully\n"
     ]
    }
   ],
   "source": [
    "dirName = \"C:\\\\Users\\\\zhang\\\\Desktop\\\\jpg_to_png\\\\\"         #最后要加双斜杠，不然会报错\n",
    "li=os.listdir(dirName)\n",
    "for filename in li:\n",
    "    newname = filename\n",
    "    newname = newname.split(\".\")\n",
    "    if newname[-1]==\"jpg\":\n",
    "        newname[-1]=\"png\"\n",
    "        newname = str.join(\".\",newname)  #这里要用str.join\n",
    "        filename = dirName+filename\n",
    "        newname = dirName+newname\n",
    "        os.rename(filename,newname)\n",
    "        print(newname,\"updated successfully\")\n",
    "    else:\n",
    "        print(\"格式错误\")"
   ]
  },
  {
   "cell_type": "code",
   "execution_count": null,
   "metadata": {},
   "outputs": [],
   "source": []
  }
 ],
 "metadata": {
  "kernelspec": {
   "display_name": "Python 3",
   "language": "python",
   "name": "python3"
  },
  "language_info": {
   "codemirror_mode": {
    "name": "ipython",
    "version": 3
   },
   "file_extension": ".py",
   "mimetype": "text/x-python",
   "name": "python",
   "nbconvert_exporter": "python",
   "pygments_lexer": "ipython3",
   "version": "3.7.4"
  }
 },
 "nbformat": 4,
 "nbformat_minor": 2
}
